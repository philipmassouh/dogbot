{
 "cells": [
  {
   "cell_type": "code",
   "execution_count": 55,
   "metadata": {},
   "outputs": [],
   "source": [
    "import requests\n",
    "\n",
    "from bs4 import BeautifulSoup\n",
    "headers={'User-Agent': 'Mozilla/5.0 (Windows NT 10.0; Win64; x64) AppleWebKit/537.36 (KHTML, like Gecko) Chrome/102.0.0.0 Safari/537.36'}\n",
    "\n",
    "hero = \"ursa\"\n",
    "url = f\"https://www.dotabuff.com/heroes/{hero}\"\n",
    "\n",
    "soup = BeautifulSoup(requests.get(url, headers=headers).content, \"html\")"
   ]
  },
  {
   "cell_type": "code",
   "execution_count": 3,
   "metadata": {},
   "outputs": [
    {
     "ename": "ImportError",
     "evalue": "attempted relative import with no known parent package",
     "output_type": "error",
     "traceback": [
      "\u001b[0;31m---------------------------------------------------------------------------\u001b[0m",
      "\u001b[0;31mImportError\u001b[0m                               Traceback (most recent call last)",
      "Cell \u001b[0;32mIn[3], line 3\u001b[0m\n\u001b[1;32m      1\u001b[0m \u001b[39mimport\u001b[39;00m \u001b[39mstatic_frame\u001b[39;00m \u001b[39mas\u001b[39;00m \u001b[39msf\u001b[39;00m\n\u001b[1;32m      2\u001b[0m \u001b[39mimport\u001b[39;00m \u001b[39mrequests\u001b[39;00m\n\u001b[0;32m----> 3\u001b[0m \u001b[39mfrom\u001b[39;00m \u001b[39m.\u001b[39;00m \u001b[39mimport\u001b[39;00m constants\n",
      "\u001b[0;31mImportError\u001b[0m: attempted relative import with no known parent package"
     ]
    }
   ],
   "source": [
    "import static_frame as sf\n",
    "import requests\n",
    "from . import constants"
   ]
  },
  {
   "cell_type": "code",
   "execution_count": 5,
   "metadata": {},
   "outputs": [],
   "source": [
    "resp = requests.get(\"https://api.opendota.com/api/\" + \"heroStats\")\n",
    "\n",
    "heroes = sf.FrameGO.from_dict_records(resp.json())\n",
    "heroes = heroes.set_index(\"id\", drop=True)\n",
    "\n",
    "# # calculate per-rank winrates\n",
    "# for r in constants.RankMap:\n",
    "#     heroes[f\"{r.name}_wr\"] = (\n",
    "#         heroes[f\"{r.value}_win\"] / heroes[f\"{r.value}_pick\"]\n",
    "#     )"
   ]
  },
  {
   "cell_type": "code",
   "execution_count": 61,
   "metadata": {},
   "outputs": [
    {
     "data": {
      "text/html": [
       "<table><tbody><tr><th>Herald_wr</th><td>0.5172651141447746</td></tr><tr><th>Guardian_wr</th><td>0.5335407221100705</td></tr><tr><th>Crusader_wr</th><td>0.5334927140255009</td></tr><tr><th>Archon_wr</th><td>0.5335296302191098</td></tr><tr><th>Legend_wr</th><td>0.5280776515151515</td></tr><tr><th>Ancient_wr</th><td>0.5323818897637795</td></tr><tr><th>Divine_wr</th><td>0.5274907749077491</td></tr><tr><th>Immortal_wr</th><td>0.5127077223851417</td></tr><tr><th>Pro_wr</th><td>0.4891304347826087</td></tr></tbody></table>"
      ],
      "text/plain": [
       "<Series: 12>\n",
       "<Index>\n",
       "Herald_wr    0.5172651141447746\n",
       "Guardian_wr  0.5335407221100705\n",
       "Crusader_wr  0.5334927140255009\n",
       "Archon_wr    0.5335296302191098\n",
       "Legend_wr    0.5280776515151515\n",
       "Ancient_wr   0.5323818897637795\n",
       "Divine_wr    0.5274907749077491\n",
       "Immortal_wr  0.5127077223851417\n",
       "Pro_wr       0.4891304347826087\n",
       "<<U17>       <float64>"
      ]
     },
     "execution_count": 61,
     "metadata": {},
     "output_type": "execute_result"
    }
   ],
   "source": [
    "winrate_columns = [f\"{r.name}_wr\" for r in constants.RankMap]\n",
    "heroes[winrate_columns].loc[12]"
   ]
  },
  {
   "cell_type": "code",
   "execution_count": 59,
   "metadata": {},
   "outputs": [],
   "source": [
    "# import static_frame as sf\n",
    "# f = sf.Frame.from_dict(\n",
    "#     dict(\n",
    "#         a=(1,2,3),\n",
    "#         b=(True,False,False),\n",
    "#         c=(\"apple\", \"banana\", \"orange\"),\n",
    "#     )\n",
    "# )\n",
    "# print(list((x for x in \"ab\")))\n",
    "# print(f[[\"a\",\"b\"]])\n",
    "# print(f[(x for x in \"ab\")])"
   ]
  },
  {
   "cell_type": "code",
   "execution_count": 9,
   "metadata": {},
   "outputs": [
    {
     "data": {
      "text/plain": [
       "array(['/apps/dota2/images/dota_react/heroes/icons/antimage.png?',\n",
       "       '/apps/dota2/images/dota_react/heroes/icons/axe.png?',\n",
       "       '/apps/dota2/images/dota_react/heroes/icons/bane.png?'],\n",
       "      dtype='<U67')"
      ]
     },
     "execution_count": 9,
     "metadata": {},
     "output_type": "execute_result"
    }
   ],
   "source": [
    "heroes.loc[[1,2,3]][\"icon\"].values"
   ]
  },
  {
   "cell_type": "code",
   "execution_count": 97,
   "metadata": {},
   "outputs": [],
   "source": [
    "import warnings\n",
    "from datetime import date\n",
    "from pathlib import Path\n",
    "\n",
    "import discord\n",
    "import requests\n",
    "import static_frame as sf\n",
    "from bs4 import BeautifulSoup\n",
    "from discord.ext import commands\n",
    "from PIL import Image\n",
    "import seaborn as sns\n",
    "\n",
    "# import constants\n",
    "\n",
    "warnings.filterwarnings(\"ignore\")\n",
    "import os\n",
    "\n",
    "import matplotlib.pyplot as plt\n",
    "from fuzzywuzzy import process"
   ]
  },
  {
   "cell_type": "code",
   "execution_count": 88,
   "metadata": {},
   "outputs": [],
   "source": [
    "data = sf.Series.from_dict(\n",
    "    mapping={\n",
    "        \"Herald_wr\":0.5038907849829352,\n",
    "        \"Guardian_wr\":0.5165060567359417,\n",
    "        \"Crusader_wr\":0.5313779826863183,\n",
    "        \"Archon_wr\":0.5310668848651217,\n",
    "        \"Legend_wr\":0.5314645055577698,\n",
    "        \"Ancient_wr\":0.5256943772379754,\n",
    "        \"Divine_wr\":0.5242186072016085,\n",
    "        \"Immortal_wr\":0.54907306434024,\n",
    "        \"Pro_wr\":0.5517241379310345,\n",
    "    }\n",
    ")"
   ]
  },
  {
   "cell_type": "code",
   "execution_count": 98,
   "metadata": {},
   "outputs": [
    {
     "data": {
      "image/png": "[encoded data removed]",
      "text/plain": [
       "<Figure size 640x480 with 1 Axes>"
      ]
     },
     "metadata": {},
     "output_type": "display_data"
    }
   ],
   "source": [
    "new_labels = [x.removesuffix(\"_wr\") for x in data.index.values]\n",
    "data = data.relabel(new_labels)\n",
    "fig, ax = plt.subplots()\n",
    "sns.set_palette(sns.color_palette([\"#7289da\", \"#99aab5\"]))\n",
    "\n",
    "discord_blue = \"#5865F2\"\n",
    "bars = ax.barh(data.index, data.values, linewidth=0, color=discord_blue)\n",
    "ax.axvline(x=data.mean(), color=\"#ffffff\", linestyle=\"--\")\n",
    "\n",
    "ax.set_title(f\"hero winrate\", color=\"#ffffff\")\n",
    "ax.set_xlabel(\"Win Rate\", color=\"#ffffff\")\n",
    "ax.set_ylabel(\"Rank\", color=\"#ffffff\")\n",
    "\n",
    "bar_x = max((bar.get_width() for bar in bars))\n",
    "\n",
    "\n",
    "for i, (bar, color) in enumerate(zip(bars,colors)):\n",
    "    value = data.iloc[i]    \n",
    "    bar.edgewidth = None\n",
    "    ax.text(\n",
    "        bar_x + 0.05,\n",
    "        bar.get_y() + bar.get_height() / 2,\n",
    "        f\"{value:.1%}\",\n",
    "        ha=\"left\",\n",
    "        va=\"center\",\n",
    "        color=\"#ffffff\",\n",
    "    )\n",
    "    color = color\n",
    "\n",
    "\n",
    "ax.tick_params(axis=\"x\", colors=\"#ffffff\")\n",
    "ax.tick_params(axis=\"y\", colors=\"#ffffff\")\n",
    "ax.spines[\"right\"].set_visible(False)\n",
    "ax.spines[\"top\"].set_visible(False)\n",
    "ax.grid(False)\n",
    "\n",
    "plt.savefig(fout := f\"hero_winrate_{date.today()}.png\", transparent=True)"
   ]
  },
  {
   "cell_type": "code",
   "execution_count": 101,
   "metadata": {},
   "outputs": [
    {
     "data": {
      "text/plain": [
       "0.5517241379310345"
      ]
     },
     "execution_count": 101,
     "metadata": {},
     "output_type": "execute_result"
    }
   ],
   "source": [
    "data.max()"
   ]
  },
  {
   "cell_type": "code",
   "execution_count": 2,
   "metadata": {},
   "outputs": [],
   "source": [
    "\n",
    "import discord\n",
    "import yt_dlp\n",
    "from discord.ext import commands\n"
   ]
  },
  {
   "cell_type": "code",
   "execution_count": 3,
   "metadata": {},
   "outputs": [],
   "source": [
    "YTDLP_OPTS = {\n",
    "    \"format\": \"bestaudio\",\n",
    "    \"extractaudio\": True,\n",
    "    \"audioformat\": \"mp3\",\n",
    "    \"outtmpl\": \"%(extractor)s-%(id)s-%(title)s.%(ext)s\",\n",
    "    \"restrictfilenames\": True,\n",
    "    \"noplaylist\": True,\n",
    "    \"nocheckcertificate\": True,\n",
    "    \"ignoreerrors\": False,\n",
    "    \"logtostderr\": False,\n",
    "    \"quiet\": True,\n",
    "    \"no_warnings\": True,\n",
    "    \"default_search\": \"auto\",\n",
    "    \"source_address\": \"0.0.0.0\",\n",
    "}\n",
    "\n",
    "FFMPEG_OPTS = {\n",
    "    \"before_options\": \"-reconnect 1 -reconnect_streamed 1 -reconnect_delay_max 5\",\n",
    "    \"options\": \"-vn\",\n",
    "}\n"
   ]
  },
  {
   "cell_type": "code",
   "execution_count": 4,
   "metadata": {},
   "outputs": [],
   "source": [
    "link = \"https://www.youtube.com/watch?v=f8p4z83TEGg\"\n",
    "with yt_dlp.YoutubeDL(YTDLP_OPTS) as ydl:\n",
    "    try:\n",
    "        info = ydl.extract_info(link, download=False)\n",
    "        url = info[\"url\"]\n",
    "    except Exception as e:\n",
    "        print(f\"An error occurred while trying to play the video: {e}\")"
   ]
  },
  {
   "cell_type": "code",
   "execution_count": 5,
   "metadata": {},
   "outputs": [],
   "source": [
    "def build_yt_embed():\n",
    "    thumbnail_url = max(info['thumbnails'], key=lambda t: (t.get('width', 0), t.get('height', 0)))['url']\n",
    "    uploader_name = info.get(\"uploader\", \"Uploader not found\")\n",
    "    uploader_url = info.get(\"uploader_url\", \"Uploader not found\")\n",
    "    duration = timedelta(seconds=float(info.get(\"duration\", \"Duration not found\")))"
   ]
  },
  {
   "cell_type": "code",
   "execution_count": 6,
   "metadata": {},
   "outputs": [
    {
     "data": {
      "text/plain": [
       "'https://www.youtube.com/watch?v=f8p4z83TEGg'"
      ]
     },
     "execution_count": 6,
     "metadata": {},
     "output_type": "execute_result"
    }
   ],
   "source": [
    "info['webpage_url']"
   ]
  },
  {
   "cell_type": "code",
   "execution_count": 28,
   "metadata": {},
   "outputs": [
    {
     "data": {
      "text/plain": [
       "1"
      ]
     },
     "execution_count": 28,
     "metadata": {},
     "output_type": "execute_result"
    }
   ],
   "source": [
    "def mySqrt(x):\n",
    "    start = 1\n",
    "    end = x\n",
    "\n",
    "    while start <= end:\n",
    "        middle = start + (end - start) // 2\n",
    "        middle_sq = middle * middle\n",
    "\n",
    "        if middle_sq > x:\n",
    "            end = middle - 1\n",
    "        elif middle_sq < x:\n",
    "            start = middle + 1            \n",
    "        else:\n",
    "            return middle\n",
    "\n",
    "    return int(round(end))\n",
    "mySqrt(1)"
   ]
  },
  {
   "cell_type": "code",
   "execution_count": 25,
   "metadata": {},
   "outputs": [
    {
     "data": {
      "text/plain": [
       "32"
      ]
     },
     "execution_count": 25,
     "metadata": {},
     "output_type": "execute_result"
    }
   ],
   "source": [
    "def mySqrt(x):\n",
    "    # For special cases when x is 0 or 1, return x.\n",
    "    if x == 0 or x == 1:\n",
    "        return x\n",
    "    \n",
    "    # Initialize the search range for the square root.\n",
    "    start = 1\n",
    "    end = x\n",
    "    mid = -1\n",
    "    \n",
    "    # Perform binary search to find the square root of x.\n",
    "    while start <= end:\n",
    "        # Calculate the middle point using \"start + (end - start) / 2\" to avoid integer overflow.\n",
    "        mid = start + (end - start) // 2\n",
    "        \n",
    "        # If the square of the middle value is greater than x, move the \"end\" to the left (mid - 1).\n",
    "        if mid * mid > x:\n",
    "            end = mid - 1\n",
    "        elif mid * mid == x:\n",
    "            # If the square of the middle value is equal to x, we found the square root.\n",
    "            return mid\n",
    "        else:\n",
    "            # If the square of the middle value is less than x, move the \"start\" to the right (mid + 1).\n",
    "            start = mid + 1\n",
    "    \n",
    "    # The loop ends when \"start\" becomes greater than \"end\", and \"end\" is the integer value of the square root.\n",
    "    # However, since we might have been using integer division in the calculations,\n",
    "    # we round down the value of \"end\" to the nearest integer to get the correct square root.\n",
    "    return int(round(end))\n",
    "mySqrt(1024)"
   ]
  },
  {
   "cell_type": "code",
   "execution_count": null,
   "metadata": {},
   "outputs": [],
   "source": []
  }
 ],
 "metadata": {
  "kernelspec": {
   "display_name": ".env",
   "language": "python",
   "name": "python3"
  },
  "language_info": {
   "codemirror_mode": {
    "name": "ipython",
    "version": 3
   },
   "file_extension": ".py",
   "mimetype": "text/x-python",
   "name": "python",
   "nbconvert_exporter": "python",
   "pygments_lexer": "ipython3",
   "version": "3.11.3"
  },
  "orig_nbformat": 4
 },
 "nbformat": 4,
 "nbformat_minor": 2
}
