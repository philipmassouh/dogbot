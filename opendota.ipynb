{
 "cells": [
  {
   "cell_type": "code",
   "execution_count": 55,
   "metadata": {},
   "outputs": [],
   "source": [
    "import requests\n",
    "\n",
    "from bs4 import BeautifulSoup\n",
    "headers={'User-Agent': 'Mozilla/5.0 (Windows NT 10.0; Win64; x64) AppleWebKit/537.36 (KHTML, like Gecko) Chrome/102.0.0.0 Safari/537.36'}\n",
    "\n",
    "hero = \"ursa\"\n",
    "url = f\"https://www.dotabuff.com/heroes/{hero}\"\n",
    "\n",
    "soup = BeautifulSoup(requests.get(url, headers=headers).content, \"html\")"
   ]
  },
  {
   "cell_type": "code",
   "execution_count": 3,
   "metadata": {},
   "outputs": [
    {
     "ename": "ImportError",
     "evalue": "attempted relative import with no known parent package",
     "output_type": "error",
     "traceback": [
      "\u001b[0;31m---------------------------------------------------------------------------\u001b[0m",
      "\u001b[0;31mImportError\u001b[0m                               Traceback (most recent call last)",
      "Cell \u001b[0;32mIn[3], line 3\u001b[0m\n\u001b[1;32m      1\u001b[0m \u001b[39mimport\u001b[39;00m \u001b[39mstatic_frame\u001b[39;00m \u001b[39mas\u001b[39;00m \u001b[39msf\u001b[39;00m\n\u001b[1;32m      2\u001b[0m \u001b[39mimport\u001b[39;00m \u001b[39mrequests\u001b[39;00m\n\u001b[0;32m----> 3\u001b[0m \u001b[39mfrom\u001b[39;00m \u001b[39m.\u001b[39;00m \u001b[39mimport\u001b[39;00m constants\n",
      "\u001b[0;31mImportError\u001b[0m: attempted relative import with no known parent package"
     ]
    }
   ],
   "source": [
    "import static_frame as sf\n",
    "import requests\n",
    "from . import constants"
   ]
  },
  {
   "cell_type": "code",
   "execution_count": 5,
   "metadata": {},
   "outputs": [],
   "source": [
    "resp = requests.get(\"https://api.opendota.com/api/\" + \"heroStats\")\n",
    "\n",
    "heroes = sf.FrameGO.from_dict_records(resp.json())\n",
    "heroes = heroes.set_index(\"id\", drop=True)\n",
    "\n",
    "# # calculate per-rank winrates\n",
    "# for r in constants.RankMap:\n",
    "#     heroes[f\"{r.name}_wr\"] = (\n",
    "#         heroes[f\"{r.value}_win\"] / heroes[f\"{r.value}_pick\"]\n",
    "#     )"
   ]
  },
  {
   "cell_type": "code",
   "execution_count": 61,
   "metadata": {},
   "outputs": [
    {
     "data": {
      "text/html": [
       "<table><tbody><tr><th>Herald_wr</th><td>0.5172651141447746</td></tr><tr><th>Guardian_wr</th><td>0.5335407221100705</td></tr><tr><th>Crusader_wr</th><td>0.5334927140255009</td></tr><tr><th>Archon_wr</th><td>0.5335296302191098</td></tr><tr><th>Legend_wr</th><td>0.5280776515151515</td></tr><tr><th>Ancient_wr</th><td>0.5323818897637795</td></tr><tr><th>Divine_wr</th><td>0.5274907749077491</td></tr><tr><th>Immortal_wr</th><td>0.5127077223851417</td></tr><tr><th>Pro_wr</th><td>0.4891304347826087</td></tr></tbody></table>"
      ],
      "text/plain": [
       "<Series: 12>\n",
       "<Index>\n",
       "Herald_wr    0.5172651141447746\n",
       "Guardian_wr  0.5335407221100705\n",
       "Crusader_wr  0.5334927140255009\n",
       "Archon_wr    0.5335296302191098\n",
       "Legend_wr    0.5280776515151515\n",
       "Ancient_wr   0.5323818897637795\n",
       "Divine_wr    0.5274907749077491\n",
       "Immortal_wr  0.5127077223851417\n",
       "Pro_wr       0.4891304347826087\n",
       "<<U17>       <float64>"
      ]
     },
     "execution_count": 61,
     "metadata": {},
     "output_type": "execute_result"
    }
   ],
   "source": [
    "winrate_columns = [f\"{r.name}_wr\" for r in constants.RankMap]\n",
    "heroes[winrate_columns].loc[12]"
   ]
  },
  {
   "cell_type": "code",
   "execution_count": 59,
   "metadata": {},
   "outputs": [],
   "source": [
    "# import static_frame as sf\n",
    "# f = sf.Frame.from_dict(\n",
    "#     dict(\n",
    "#         a=(1,2,3),\n",
    "#         b=(True,False,False),\n",
    "#         c=(\"apple\", \"banana\", \"orange\"),\n",
    "#     )\n",
    "# )\n",
    "# print(list((x for x in \"ab\")))\n",
    "# print(f[[\"a\",\"b\"]])\n",
    "# print(f[(x for x in \"ab\")])"
   ]
  },
  {
   "cell_type": "code",
   "execution_count": 9,
   "metadata": {},
   "outputs": [
    {
     "data": {
      "text/plain": [
       "array(['/apps/dota2/images/dota_react/heroes/icons/antimage.png?',\n",
       "       '/apps/dota2/images/dota_react/heroes/icons/axe.png?',\n",
       "       '/apps/dota2/images/dota_react/heroes/icons/bane.png?'],\n",
       "      dtype='<U67')"
      ]
     },
     "execution_count": 9,
     "metadata": {},
     "output_type": "execute_result"
    }
   ],
   "source": [
    "heroes.loc[[1,2,3]][\"icon\"].values"
   ]
  },
  {
   "cell_type": "code",
   "execution_count": null,
   "metadata": {},
   "outputs": [],
   "source": []
  }
 ],
 "metadata": {
  "kernelspec": {
   "display_name": ".env",
   "language": "python",
   "name": "python3"
  },
  "language_info": {
   "codemirror_mode": {
    "name": "ipython",
    "version": 3
   },
   "file_extension": ".py",
   "mimetype": "text/x-python",
   "name": "python",
   "nbconvert_exporter": "python",
   "pygments_lexer": "ipython3",
   "version": "3.10.10"
  },
  "orig_nbformat": 4
 },
 "nbformat": 4,
 "nbformat_minor": 2
}
